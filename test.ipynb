{
 "cells": [
  {
   "cell_type": "code",
   "execution_count": 1,
   "metadata": {},
   "outputs": [],
   "source": [
    "from openelm import ELM\n",
    "from openelm.environments.environments import (\n",
    "        BaseEnvironment,\n",
    "        FunctionOptim,\n",
    "        ImageOptim,\n",
    "        MatchString,\n",
    "        Sodarace\n",
    "    )\n",
    "from openelm.map_elites import MAPElites, Map\n",
    "import numpy as np\n",
    "from openelm.codegen.codegen_utilities import truncate"
   ]
  },
  {
   "cell_type": "code",
   "execution_count": 12,
   "metadata": {},
   "outputs": [],
   "source": [
    "from openelm.environments.sodaracer.walker.square import make_walker as make_walker_square\n",
    "from openelm.environments.sodaracer.walker.radial import make_walker as make_walker_radial\n",
    "from openelm.environments.sodaracer.walker.CPPN_fixed import make_walker as make_walker_cppn_fixed\n",
    "from openelm.environments.sodaracer.walker.CPPN_mutable import make_walker as make_walker_cppn_mutable"
   ]
  },
  {
   "cell_type": "code",
   "execution_count": 13,
   "metadata": {},
   "outputs": [],
   "source": [
    "square = make_walker_square()\n",
    "radial = make_walker_radial()\n",
    "cppn_fixed = make_walker_cppn_fixed()\n",
    "cppn_mutable = make_walker_cppn_mutable()"
   ]
  },
  {
   "cell_type": "code",
   "execution_count": 114,
   "metadata": {},
   "outputs": [
    {
     "data": {
      "text/plain": [
       "{'joints': [(0, 0), (0, 10), (10, 10), (10, 0), (5, 5)],\n",
       " 'muscles': [[0, 1, {'type': 'distance', 'amplitude': 0.0, 'phase': 0.0}],\n",
       "  [1, 2, {'type': 'distance', 'amplitude': 0.0, 'phase': 0.0}],\n",
       "  [2, 3, {'type': 'distance', 'amplitude': 0.0, 'phase': 0.0}],\n",
       "  [3, 0, {'type': 'distance', 'amplitude': 0.0, 'phase': 0.0}],\n",
       "  [3, 4, {'type': 'distance', 'amplitude': 0.0, 'phase': 0.0}],\n",
       "  [0, 4, {'type': 'muscle', 'amplitude': 5.0, 'phase': 0.0}],\n",
       "  [1, 4, {'type': 'muscle', 'amplitude': 10.0, 'phase': 0.0}],\n",
       "  [2, 4, {'type': 'muscle', 'amplitude': 2.0, 'phase': 0.0}]]}"
      ]
     },
     "execution_count": 114,
     "metadata": {},
     "output_type": "execute_result"
    }
   ],
   "source": [
    "square.to_dict()"
   ]
  },
  {
   "cell_type": "code",
   "execution_count": 5,
   "metadata": {},
   "outputs": [
    {
     "data": {
      "text/plain": [
       "(True, True)"
      ]
     },
     "execution_count": 5,
     "metadata": {},
     "output_type": "execute_result"
    }
   ],
   "source": [
    "square.validate(), radial.validate()"
   ]
  },
  {
   "cell_type": "code",
   "execution_count": 25,
   "metadata": {},
   "outputs": [],
   "source": [
    "from openelm.environments.sodaracer.simulator import IESoRWorld"
   ]
  },
  {
   "cell_type": "code",
   "execution_count": 111,
   "metadata": {},
   "outputs": [],
   "source": [
    "myWorld = IESoRWorld()"
   ]
  },
  {
   "cell_type": "code",
   "execution_count": 112,
   "metadata": {},
   "outputs": [],
   "source": [
    "initial_dict = myWorld.load_body_into_world(square.to_dict(), myWorld.canvas)"
   ]
  },
  {
   "cell_type": "code",
   "execution_count": 106,
   "metadata": {},
   "outputs": [
    {
     "data": {
      "text/plain": [
       "{'width': 413.2231404958677,\n",
       " 'height': 240.0,\n",
       " 'startX': 0.0,\n",
       " 'offsetX': -106.61157024793386,\n",
       " 'startY': -216.0,\n",
       " 'offsetY': 171.0,\n",
       " 'mass': 1136.0864722563908}"
      ]
     },
     "execution_count": 106,
     "metadata": {},
     "output_type": "execute_result"
    }
   ],
   "source": [
    "initial_dict"
   ]
  },
  {
   "cell_type": "code",
   "execution_count": 109,
   "metadata": {},
   "outputs": [],
   "source": [
    "x_pos, y_pos = [], []\n",
    "for i in range(1000):\n",
    "    x_pos.append(min(\n",
    "    [bone.joint.bodyA.position.x for bone in myWorld.bone_list] +\n",
    "    [muscle.joint.bodyA.position.x for muscle in myWorld.muscle_list]\n",
    "))\n",
    "    y_pos.append(min(\n",
    "    [bone.joint.bodyA.position.y for bone in myWorld.bone_list] +\n",
    "    [muscle.joint.bodyA.position.y for muscle in myWorld.muscle_list]\n",
    "))\n",
    "    myWorld.updateWorld(350)"
   ]
  },
  {
   "cell_type": "code",
   "execution_count": 110,
   "metadata": {},
   "outputs": [
    {
     "data": {
      "text/plain": [
       "[<matplotlib.lines.Line2D at 0x7f06da573c70>]"
      ]
     },
     "execution_count": 110,
     "metadata": {},
     "output_type": "execute_result"
    },
    {
     "data": {
      "image/png": "[encoded data removed]",
      "text/plain": [
       "<Figure size 640x480 with 1 Axes>"
      ]
     },
     "metadata": {},
     "output_type": "display_data"
    }
   ],
   "source": [
    "import matplotlib.pyplot as plt\n",
    "plt.plot(x_pos)\n",
    "# plt.plot(y_pos)"
   ]
  },
  {
   "cell_type": "code",
   "execution_count": 113,
   "metadata": {},
   "outputs": [
    {
     "name": "stdout",
     "output_type": "stream",
     "text": [
      "0.0 7.27755535535573\n"
     ]
    }
   ],
   "source": [
    "[myWorld.updateWorld(350) for i in range(1000)]\n",
    "start = initial_dict['startX']\n",
    "# Could potentially just grab the bones instead, but if it's all \n",
    "# muscle then you'd need to grab a muscle.\n",
    "end = min(\n",
    "    [bone.joint.bodyA.position.x for bone in myWorld.bone_list] +\n",
    "    [muscle.joint.bodyA.position.x for muscle in myWorld.muscle_list]\n",
    ")\n",
    "print(start, abs(end + initial_dict['offsetX']))"
   ]
  },
  {
   "cell_type": "code",
   "execution_count": 2,
   "metadata": {},
   "outputs": [],
   "source": [
    "SQUARE_SEED = {\n",
    "    \"program_str\": \"\"\"from openelm.environments.sodaracer.walker.walk_creator import walker_creator\n",
    "\n",
    "\n",
    "def make_square(wc, x0, y0, x1, y1):\n",
    "    \\\"\\\"\\\"Make a square with top left x0,y0 and top right x1,y1.\\\"\\\"\\\"\n",
    "    j0 = wc.add_joint(x0, y0)\n",
    "    j1 = wc.add_joint(x0, y1)\n",
    "    j2 = wc.add_joint(x1, y1)\n",
    "    j3 = wc.add_joint(x1, y0)\n",
    "    return j0, j1, j2, j3\n",
    "\n",
    "\n",
    "def make_walker():\n",
    "    wc = walker_creator()\n",
    "\n",
    "    # the main body is a square\n",
    "    sides = make_square(wc, 0, 0, 10, 10)\n",
    "    center = wc.add_joint(5, 5)\n",
    "\n",
    "    # connect the square with distance muscles\n",
    "    for k in range(len(sides) - 1):\n",
    "        wc.add_muscle(sides[k], sides[k + 1])\n",
    "    wc.add_muscle(sides[3], sides[0])\n",
    "\n",
    "    # one prong of the square is a distance muscle\n",
    "    wc.add_muscle(sides[3], center)\n",
    "\n",
    "    # the other prongs from the center of the square are active\n",
    "    wc.add_muscle(sides[0], center, 5.0, 0.0)\n",
    "    wc.add_muscle(sides[1], center, 10.0, 0.0)\n",
    "    wc.add_muscle(sides[2], center, 2.0, 0.0)\n",
    "\n",
    "    return wc.get_walker()\n",
    "\n",
    "\"\"\",\n",
    "    \"result_dict\": {\n",
    "        \"joints\": [(0, 0), (0, 10), (10, 10), (10, 0), (5, 5)],\n",
    "        \"muscles\": [\n",
    "            [0, 1, {\"type\": \"distance\", \"amplitude\": 0.0, \"phase\": 0.0}],\n",
    "            [1, 2, {\"type\": \"distance\", \"amplitude\": 0.0, \"phase\": 0.0}],\n",
    "            [2, 3, {\"type\": \"distance\", \"amplitude\": 0.0, \"phase\": 0.0}],\n",
    "            [3, 0, {\"type\": \"distance\", \"amplitude\": 0.0, \"phase\": 0.0}],\n",
    "            [3, 4, {\"type\": \"distance\", \"amplitude\": 0.0, \"phase\": 0.0}],\n",
    "            [0, 4, {\"type\": \"muscle\", \"amplitude\": 5.0, \"phase\": 0.0}],\n",
    "            [1, 4, {\"type\": \"muscle\", \"amplitude\": 10.0, \"phase\": 0.0}],\n",
    "            [2, 4, {\"type\": \"muscle\", \"amplitude\": 2.0, \"phase\": 0.0}],\n",
    "        ],\n",
    "    },\n",
    "}\n"
   ]
  },
  {
   "cell_type": "code",
   "execution_count": null,
   "metadata": {},
   "outputs": [],
   "source": [
    "truncate(SQUARE_SEED[\"program_str\"])"
   ]
  },
  {
   "cell_type": "code",
   "execution_count": 3,
   "metadata": {},
   "outputs": [],
   "source": [
    "tst = unsafe_execute(SQUARE_SEED[\"program_str\"])"
   ]
  },
  {
   "cell_type": "code",
   "execution_count": 21,
   "metadata": {},
   "outputs": [],
   "source": [
    "behavior_space = np.array(\n",
    "            [[0, 1000], [0, 1000], [0, 2000]]\n",
    "        ).T\n",
    "bins = np.linspace(*behavior_space, 12 + 1)[1:-1].T"
   ]
  },
  {
   "cell_type": "code",
   "execution_count": 22,
   "metadata": {},
   "outputs": [],
   "source": [
    "def to_mapindex(b):\n",
    "        return (\n",
    "            None\n",
    "            if b is None\n",
    "            else tuple(np.digitize(x, bins) for x, bins in zip(b, bins))\n",
    "        )"
   ]
  },
  {
   "cell_type": "code",
   "execution_count": 40,
   "metadata": {},
   "outputs": [
    {
     "data": {
      "text/plain": [
       "(11, 4, 6)"
      ]
     },
     "execution_count": 40,
     "metadata": {},
     "output_type": "execute_result"
    }
   ],
   "source": [
    "to_mapindex(np.array([917, 413, 1136]))"
   ]
  },
  {
   "cell_type": "code",
   "execution_count": null,
   "metadata": {},
   "outputs": [],
   "source": [
    "env = Sodarace()\n",
    "elites = MAPElites(\n",
    "    self.environment,\n",
    "    n_bins=self.cfg.behavior_n_bins,\n",
    "    history_length=self.cfg.evo_history_length,\n",
    ")"
   ]
  }
 ],
 "metadata": {
  "kernelspec": {
   "display_name": "elm",
   "language": "python",
   "name": "python3"
  },
  "language_info": {
   "codemirror_mode": {
    "name": "ipython",
    "version": 3
   },
   "file_extension": ".py",
   "mimetype": "text/x-python",
   "name": "python",
   "nbconvert_exporter": "python",
   "pygments_lexer": "ipython3",
   "version": "3.9.13 (main, Aug 25 2022, 23:26:10) \n[GCC 11.2.0]"
  },
  "orig_nbformat": 4,
  "vscode": {
   "interpreter": {
    "hash": "0e64d1e0008a8db44de2a20958057659a3dab239f6adf041af850e01a5da18a0"
   }
  }
 },
 "nbformat": 4,
 "nbformat_minor": 2
}

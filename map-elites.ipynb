{
 "cells": [
  {
   "cell_type": "code",
   "execution_count": 1,
   "metadata": {},
   "outputs": [],
   "source": [
    "from map_elites import MAPElites, FunctionOptim, MatchString, Sodarace\n",
    "import numpy as np"
   ]
  },
  {
   "cell_type": "code",
   "execution_count": 2,
   "metadata": {},
   "outputs": [
    {
     "ename": "TypeError",
     "evalue": "__init__() missing 2 required positional arguments: 'seed' and 'diff_model'",
     "output_type": "error",
     "traceback": [
      "\u001b[0;31m---------------------------------------------------------------------------\u001b[0m",
      "\u001b[0;31mTypeError\u001b[0m                                 Traceback (most recent call last)",
      "\u001b[1;32m/home/users/hyper1on/ELM/map-elites.ipynb Cell 2\u001b[0m in \u001b[0;36m<cell line: 1>\u001b[0;34m()\u001b[0m\n\u001b[0;32m----> <a href='vscode-notebook-cell://ssh-remote%2Bjasmin-sci2/home/users/hyper1on/ELM/map-elites.ipynb#W1sdnNjb2RlLXJlbW90ZQ%3D%3D?line=0'>1</a>\u001b[0m env \u001b[39m=\u001b[39m Sodarace()\n\u001b[1;32m      <a href='vscode-notebook-cell://ssh-remote%2Bjasmin-sci2/home/users/hyper1on/ELM/map-elites.ipynb#W1sdnNjb2RlLXJlbW90ZQ%3D%3D?line=1'>2</a>\u001b[0m elites \u001b[39m=\u001b[39m MAPElites(env, nbins\u001b[39m=\u001b[39m\u001b[39m12\u001b[39m)\n",
      "\u001b[0;31mTypeError\u001b[0m: __init__() missing 2 required positional arguments: 'seed' and 'diff_model'"
     ]
    }
   ],
   "source": [
    "env = Sodarace()\n",
    "elites = MAPElites(env, nbins=12)"
   ]
  },
  {
   "cell_type": "code",
   "execution_count": 8,
   "metadata": {},
   "outputs": [
    {
     "data": {
      "text/plain": [
       "(12, 12, 12)"
      ]
     },
     "execution_count": 8,
     "metadata": {},
     "output_type": "execute_result"
    }
   ],
   "source": [
    "elites.genomes.shape"
   ]
  },
  {
   "cell_type": "code",
   "execution_count": 2,
   "metadata": {},
   "outputs": [
    {
     "name": "stdout",
     "output_type": "stream",
     "text": [
      "[[ 0.          0.          0.          0.          0.          0.\n",
      "   0.          0.          0.        ]\n",
      " [17.33333333 17.33333333 17.33333333 17.33333333 17.33333333 17.33333333\n",
      "  17.33333333 17.33333333 17.33333333]\n",
      " [34.66666667 34.66666667 34.66666667 34.66666667 34.66666667 34.66666667\n",
      "  34.66666667 34.66666667 34.66666667]\n",
      " [52.         52.         52.         52.         52.         52.\n",
      "  52.         52.         52.        ]]\n",
      "MAP of size: (3, 3, 3, 3, 3, 3, 3, 3, 3) = 19683\n"
     ]
    }
   ],
   "source": [
    "env = MatchString(target='MAPElites')\n",
    "elites = MAPElites(env, nbins=3)"
   ]
  },
  {
   "cell_type": "code",
   "execution_count": 7,
   "metadata": {},
   "outputs": [
    {
     "data": {
      "text/plain": [
       "array([3, 3, 3, 3, 3, 3, 3, 3, 3])"
      ]
     },
     "execution_count": 7,
     "metadata": {},
     "output_type": "execute_result"
    }
   ],
   "source": [
    "np.repeat(3, env.behaviour_ndim)"
   ]
  },
  {
   "cell_type": "code",
   "execution_count": 13,
   "metadata": {},
   "outputs": [
    {
     "data": {
      "text/plain": [
       "array([[ 0,  0,  0,  0,  0,  0,  0,  0,  0],\n",
       "       [52, 52, 52, 52, 52, 52, 52, 52, 52]])"
      ]
     },
     "execution_count": 13,
     "metadata": {},
     "output_type": "execute_result"
    }
   ],
   "source": [
    "env.behaviour_space"
   ]
  },
  {
   "cell_type": "code",
   "execution_count": 10,
   "metadata": {},
   "outputs": [
    {
     "data": {
      "text/plain": [
       "(3, 3, 3, 3, 3, 3, 3, 3)"
      ]
     },
     "execution_count": 10,
     "metadata": {},
     "output_type": "execute_result"
    }
   ],
   "source": [
    "elites.fitnesses[0].shape"
   ]
  },
  {
   "cell_type": "code",
   "execution_count": 14,
   "metadata": {},
   "outputs": [
    {
     "data": {
      "text/plain": [
       "array([25, 40, 25, 29, 29, 47, 37, 44, 45])"
      ]
     },
     "execution_count": 14,
     "metadata": {},
     "output_type": "execute_result"
    }
   ],
   "source": [
    "env.random().astype(int)"
   ]
  },
  {
   "cell_type": "code",
   "execution_count": 18,
   "metadata": {},
   "outputs": [
    {
     "data": {
      "text/plain": [
       "(-131, 'QboVbfkCE', array([38, 26, 41, 30, 11,  8, 19,  4, 18]))"
      ]
     },
     "execution_count": 18,
     "metadata": {},
     "output_type": "execute_result"
    }
   ],
   "source": [
    "tst = env.random().astype(int)\n",
    "env.fitness(tst), env.to_string(tst), env.target"
   ]
  },
  {
   "cell_type": "code",
   "execution_count": null,
   "metadata": {},
   "outputs": [],
   "source": []
  }
 ],
 "metadata": {
  "kernelspec": {
   "display_name": "Python 3.9.13 ('elm')",
   "language": "python",
   "name": "python3"
  },
  "language_info": {
   "codemirror_mode": {
    "name": "ipython",
    "version": 3
   },
   "file_extension": ".py",
   "mimetype": "text/x-python",
   "name": "python",
   "nbconvert_exporter": "python",
   "pygments_lexer": "ipython3",
   "version": "3.9.13"
  },
  "orig_nbformat": 4,
  "vscode": {
   "interpreter": {
    "hash": "0e64d1e0008a8db44de2a20958057659a3dab239f6adf041af850e01a5da18a0"
   }
  }
 },
 "nbformat": 4,
 "nbformat_minor": 2
}

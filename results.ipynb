{
 "cells": [
  {
   "cell_type": "code",
   "execution_count": 19,
   "metadata": {},
   "outputs": [],
   "source": [
    "import pandas as pd\n",
    "import matplotlib.pyplot as plt"
   ]
  },
  {
   "cell_type": "code",
   "execution_count": 20,
   "metadata": {},
   "outputs": [],
   "source": [
    "results = pd.read_csv('results.csv')"
   ]
  },
  {
   "cell_type": "code",
   "execution_count": 21,
   "metadata": {},
   "outputs": [
    {
     "data": {
      "text/html": [
       "<div>\n",
       "<style scoped>\n",
       "    .dataframe tbody tr th:only-of-type {\n",
       "        vertical-align: middle;\n",
       "    }\n",
       "\n",
       "    .dataframe tbody tr th {\n",
       "        vertical-align: top;\n",
       "    }\n",
       "\n",
       "    .dataframe thead th {\n",
       "        text-align: right;\n",
       "    }\n",
       "</style>\n",
       "<table border=\"1\" class=\"dataframe\">\n",
       "  <thead>\n",
       "    <tr style=\"text-align: right;\">\n",
       "      <th></th>\n",
       "      <th>bugs</th>\n",
       "      <th>trials</th>\n",
       "      <th>completions</th>\n",
       "      <th>name</th>\n",
       "      <th>model_size</th>\n",
       "    </tr>\n",
       "  </thead>\n",
       "  <tbody>\n",
       "    <tr>\n",
       "      <th>0</th>\n",
       "      <td>0</td>\n",
       "      <td>10000</td>\n",
       "      <td>955</td>\n",
       "      <td>zero-bugs</td>\n",
       "      <td>350M</td>\n",
       "    </tr>\n",
       "    <tr>\n",
       "      <th>1</th>\n",
       "      <td>1</td>\n",
       "      <td>10000</td>\n",
       "      <td>78</td>\n",
       "      <td>one-bug</td>\n",
       "      <td>350M</td>\n",
       "    </tr>\n",
       "    <tr>\n",
       "      <th>2</th>\n",
       "      <td>2</td>\n",
       "      <td>10000</td>\n",
       "      <td>72</td>\n",
       "      <td>two-bugs</td>\n",
       "      <td>350M</td>\n",
       "    </tr>\n",
       "    <tr>\n",
       "      <th>3</th>\n",
       "      <td>3</td>\n",
       "      <td>10000</td>\n",
       "      <td>70</td>\n",
       "      <td>three-bugs</td>\n",
       "      <td>350M</td>\n",
       "    </tr>\n",
       "    <tr>\n",
       "      <th>4</th>\n",
       "      <td>4</td>\n",
       "      <td>10000</td>\n",
       "      <td>92</td>\n",
       "      <td>four-bugs</td>\n",
       "      <td>350M</td>\n",
       "    </tr>\n",
       "    <tr>\n",
       "      <th>5</th>\n",
       "      <td>5</td>\n",
       "      <td>10000</td>\n",
       "      <td>71</td>\n",
       "      <td>five-bugs</td>\n",
       "      <td>350M</td>\n",
       "    </tr>\n",
       "    <tr>\n",
       "      <th>6</th>\n",
       "      <td>1</td>\n",
       "      <td>10000</td>\n",
       "      <td>1689</td>\n",
       "      <td>no-docstring</td>\n",
       "      <td>350M</td>\n",
       "    </tr>\n",
       "    <tr>\n",
       "      <th>7</th>\n",
       "      <td>1</td>\n",
       "      <td>10000</td>\n",
       "      <td>0</td>\n",
       "      <td>only-signature</td>\n",
       "      <td>350M</td>\n",
       "    </tr>\n",
       "    <tr>\n",
       "      <th>8</th>\n",
       "      <td>1</td>\n",
       "      <td>10000</td>\n",
       "      <td>171</td>\n",
       "      <td>only-return-line</td>\n",
       "      <td>350M</td>\n",
       "    </tr>\n",
       "    <tr>\n",
       "      <th>9</th>\n",
       "      <td>1</td>\n",
       "      <td>10000</td>\n",
       "      <td>7</td>\n",
       "      <td>only-return</td>\n",
       "      <td>350M</td>\n",
       "    </tr>\n",
       "    <tr>\n",
       "      <th>10</th>\n",
       "      <td>1</td>\n",
       "      <td>10000</td>\n",
       "      <td>1982</td>\n",
       "      <td>zero-bugs</td>\n",
       "      <td>2B</td>\n",
       "    </tr>\n",
       "    <tr>\n",
       "      <th>11</th>\n",
       "      <td>1</td>\n",
       "      <td>10000</td>\n",
       "      <td>1620</td>\n",
       "      <td>one-bug</td>\n",
       "      <td>2B</td>\n",
       "    </tr>\n",
       "    <tr>\n",
       "      <th>12</th>\n",
       "      <td>2</td>\n",
       "      <td>10000</td>\n",
       "      <td>1702</td>\n",
       "      <td>two-bugs</td>\n",
       "      <td>2B</td>\n",
       "    </tr>\n",
       "    <tr>\n",
       "      <th>13</th>\n",
       "      <td>3</td>\n",
       "      <td>10000</td>\n",
       "      <td>1604</td>\n",
       "      <td>three-bugs</td>\n",
       "      <td>2B</td>\n",
       "    </tr>\n",
       "    <tr>\n",
       "      <th>14</th>\n",
       "      <td>4</td>\n",
       "      <td>10000</td>\n",
       "      <td>1835</td>\n",
       "      <td>four-bugs</td>\n",
       "      <td>2B</td>\n",
       "    </tr>\n",
       "    <tr>\n",
       "      <th>15</th>\n",
       "      <td>5</td>\n",
       "      <td>10000</td>\n",
       "      <td>1589</td>\n",
       "      <td>five-bugs</td>\n",
       "      <td>2B</td>\n",
       "    </tr>\n",
       "  </tbody>\n",
       "</table>\n",
       "</div>"
      ],
      "text/plain": [
       "    bugs  trials  completions              name model_size\n",
       "0      0   10000          955         zero-bugs       350M\n",
       "1      1   10000           78           one-bug       350M\n",
       "2      2   10000           72          two-bugs       350M\n",
       "3      3   10000           70        three-bugs       350M\n",
       "4      4   10000           92         four-bugs       350M\n",
       "5      5   10000           71         five-bugs       350M\n",
       "6      1   10000         1689      no-docstring       350M\n",
       "7      1   10000            0    only-signature       350M\n",
       "8      1   10000          171  only-return-line       350M\n",
       "9      1   10000            7       only-return       350M\n",
       "10     1   10000         1982         zero-bugs         2B\n",
       "11     1   10000         1620           one-bug         2B\n",
       "12     2   10000         1702          two-bugs         2B\n",
       "13     3   10000         1604        three-bugs         2B\n",
       "14     4   10000         1835         four-bugs         2B\n",
       "15     5   10000         1589         five-bugs         2B"
      ]
     },
     "execution_count": 21,
     "metadata": {},
     "output_type": "execute_result"
    }
   ],
   "source": [
    "results"
   ]
  },
  {
   "cell_type": "code",
   "execution_count": 22,
   "metadata": {},
   "outputs": [
    {
     "name": "stderr",
     "output_type": "stream",
     "text": [
      "/tmp/ipykernel_6612/565143298.py:2: SettingWithCopyWarning: \n",
      "A value is trying to be set on a copy of a slice from a DataFrame.\n",
      "Try using .loc[row_indexer,col_indexer] = value instead\n",
      "\n",
      "See the caveats in the documentation: https://pandas.pydata.org/pandas-docs/stable/user_guide/indexing.html#returning-a-view-versus-a-copy\n",
      "  num_bugs['bugs'] = num_bugs['bugs'].astype(int)\n",
      "/tmp/ipykernel_6612/565143298.py:3: SettingWithCopyWarning: \n",
      "A value is trying to be set on a copy of a slice from a DataFrame.\n",
      "Try using .loc[row_indexer,col_indexer] = value instead\n",
      "\n",
      "See the caveats in the documentation: https://pandas.pydata.org/pandas-docs/stable/user_guide/indexing.html#returning-a-view-versus-a-copy\n",
      "  num_bugs['completions'] = num_bugs['completions'].astype(int)\n",
      "/tmp/ipykernel_6612/565143298.py:4: SettingWithCopyWarning: \n",
      "A value is trying to be set on a copy of a slice from a DataFrame.\n",
      "Try using .loc[row_indexer,col_indexer] = value instead\n",
      "\n",
      "See the caveats in the documentation: https://pandas.pydata.org/pandas-docs/stable/user_guide/indexing.html#returning-a-view-versus-a-copy\n",
      "  num_bugs['completions'] = (num_bugs['completions'] / 10000) * 100\n"
     ]
    }
   ],
   "source": [
    "num_bugs = results[['bugs', 'completions']]\n",
    "num_bugs['bugs'] = num_bugs['bugs'].astype(int)\n",
    "num_bugs['completions'] = num_bugs['completions'].astype(int)\n",
    "num_bugs['completions'] = (num_bugs['completions'] / 10000) * 100"
   ]
  },
  {
   "cell_type": "code",
   "execution_count": 23,
   "metadata": {},
   "outputs": [
    {
     "data": {
      "text/plain": [
       "<matplotlib.legend.Legend at 0x7f62e130ed90>"
      ]
     },
     "execution_count": 23,
     "metadata": {},
     "output_type": "execute_result"
    },
    {
     "data": {
      "image/png": "[encoded data removed]",
      "text/plain": [
       "<Figure size 432x288 with 1 Axes>"
      ]
     },
     "metadata": {
      "needs_background": "light"
     },
     "output_type": "display_data"
    }
   ],
   "source": [
    "plt.plot((range(6)), num_bugs['completions'].iloc[:6], label='350M')\n",
    "plt.plot((range(6)), num_bugs['completions'].iloc[10:], label='2B')\n",
    "plt.legend()"
   ]
  }
 ],
 "metadata": {
  "kernelspec": {
   "display_name": "Python 3.9.12 ('mres')",
   "language": "python",
   "name": "python3"
  },
  "language_info": {
   "codemirror_mode": {
    "name": "ipython",
    "version": 3
   },
   "file_extension": ".py",
   "mimetype": "text/x-python",
   "name": "python",
   "nbconvert_exporter": "python",
   "pygments_lexer": "ipython3",
   "version": "3.9.12"
  },
  "orig_nbformat": 4,
  "vscode": {
   "interpreter": {
    "hash": "cde4f1d67d77be11aeb3acb575a3d2a0899aecabf258f020a181542c879d3b81"
   }
  }
 },
 "nbformat": 4,
 "nbformat_minor": 2
}

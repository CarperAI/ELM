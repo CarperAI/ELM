{
 "cells": [
  {
   "cell_type": "code",
   "execution_count": 1,
   "metadata": {},
   "outputs": [
    {
     "name": "stdout",
     "output_type": "stream",
     "text": [
      "20.661157024793386 31.604612429279925\n"
     ]
    }
   ],
   "source": [
    "from sodaracer_env import simulator\n",
    "import json\n",
    "\n",
    "myWorld = simulator.IESoRWorld()\n",
    "with open('sodaracer_env/example_bodies/sampleBody224632.json', 'r') as f:\n",
    "    initial_dict = myWorld.load_body_into_world(json.load(f), myWorld.canvas)\n",
    "\n",
    "# 350 is the maximum, so just run it a bunch...\n",
    "[myWorld.updateWorld(350) for i in range(1000)]\n",
    "start = initial_dict['startX']\n",
    "# Could potentially just grab the bones instead, but if it's all \n",
    "# muscle then you'd need to grab a muscle.\n",
    "end = min(\n",
    "    [bone.joint.bodyA.position.x for bone in myWorld.bone_list] +\n",
    "    [muscle.joint.bodyA.position.x for muscle in myWorld.muscle_list]\n",
    ")\n",
    "print(start, end - initial_dict['offsetX'])"
   ]
  },
  {
   "cell_type": "code",
   "execution_count": 12,
   "metadata": {},
   "outputs": [
    {
     "name": "stdout",
     "output_type": "stream",
     "text": [
      "984 µs ± 18.8 µs per loop (mean ± std. dev. of 7 runs, 1,000 loops each)\n"
     ]
    }
   ],
   "source": [
    "%%timeit\n",
    "myWorld.updateWorld(10000)"
   ]
  },
  {
   "cell_type": "code",
   "execution_count": 2,
   "metadata": {},
   "outputs": [
    {
     "data": {
      "text/plain": [
       "{'width': 20.661157024793386,\n",
       " 'height': 12.0,\n",
       " 'startX': 20.661157024793386,\n",
       " 'offsetX': 69.00826446280992,\n",
       " 'startY': 0.0,\n",
       " 'offsetY': 69.0,\n",
       " 'mass': 185.73470169203367}"
      ]
     },
     "execution_count": 2,
     "metadata": {},
     "output_type": "execute_result"
    }
   ],
   "source": [
    "initial_dict"
   ]
  },
  {
   "cell_type": "code",
   "execution_count": 3,
   "metadata": {},
   "outputs": [
    {
     "data": {
      "text/plain": [
       "(89.66941833496094, 89.66941833496094)"
      ]
     },
     "execution_count": 3,
     "metadata": {},
     "output_type": "execute_result"
    }
   ],
   "source": [
    "myWorld.bone_list[0].joint.bodyA.position.x, myWorld.bone_list[1].joint.bodyA.position.x"
   ]
  },
  {
   "cell_type": "code",
   "execution_count": 1,
   "metadata": {},
   "outputs": [],
   "source": [
    "from walker.square import make_walker as make_walker_square\n",
    "from walker.CPPN_fixed import make_walker as make_walker_cppn_fixed\n",
    "from walker.CPPN_mutable import make_walker as make_walker_cppn_mutable\n",
    "from walker.radial import make_walker as make_walker_radial\n",
    "from walker.walk_creator import walker_creator"
   ]
  },
  {
   "cell_type": "code",
   "execution_count": 2,
   "metadata": {},
   "outputs": [
    {
     "data": {
      "text/plain": [
       "True"
      ]
     },
     "execution_count": 2,
     "metadata": {},
     "output_type": "execute_result"
    }
   ],
   "source": [
    "square = make_walker_square()\n",
    "square.validate()"
   ]
  },
  {
   "cell_type": "code",
   "execution_count": 2,
   "metadata": {},
   "outputs": [
    {
     "data": {
      "text/plain": [
       "True"
      ]
     },
     "execution_count": 2,
     "metadata": {},
     "output_type": "execute_result"
    }
   ],
   "source": [
    "radial = make_walker_radial()\n",
    "radial.validate()"
   ]
  },
  {
   "cell_type": "code",
   "execution_count": 4,
   "metadata": {},
   "outputs": [
    {
     "data": {
      "text/plain": [
       "True"
      ]
     },
     "execution_count": 4,
     "metadata": {},
     "output_type": "execute_result"
    }
   ],
   "source": [
    "cppn_fixed = make_walker_cppn_fixed()\n",
    "cppn_fixed.validate()"
   ]
  },
  {
   "cell_type": "code",
   "execution_count": 5,
   "metadata": {},
   "outputs": [
    {
     "data": {
      "text/plain": [
       "True"
      ]
     },
     "execution_count": 5,
     "metadata": {},
     "output_type": "execute_result"
    }
   ],
   "source": [
    "cppn_mutable = make_walker_cppn_mutable()\n",
    "cppn_mutable.validate()"
   ]
  },
  {
   "cell_type": "code",
   "execution_count": 4,
   "metadata": {},
   "outputs": [],
   "source": [
    "tst = square.serialize_walker_sodarace()"
   ]
  },
  {
   "cell_type": "code",
   "execution_count": 5,
   "metadata": {},
   "outputs": [
    {
     "data": {
      "text/plain": [
       "{'useLEO': True,\n",
       " 'nodes': [{'x': 0, 'y': 0},\n",
       "  {'x': 0, 'y': 10},\n",
       "  {'x': 10, 'y': 10},\n",
       "  {'x': 10, 'y': 0},\n",
       "  {'x': 5, 'y': 5}],\n",
       " 'connections': [{'sourceID': '0',\n",
       "   'targetID': '1',\n",
       "   'cppnOutputs': [0, 0, 0, -10.0]},\n",
       "  {'sourceID': '1', 'targetID': '2', 'cppnOutputs': [0, 0, 0, -10.0]},\n",
       "  {'sourceID': '2', 'targetID': '3', 'cppnOutputs': [0, 0, 0, -10.0]},\n",
       "  {'sourceID': '3', 'targetID': '0', 'cppnOutputs': [0, 0, 0, -10.0]},\n",
       "  {'sourceID': '3', 'targetID': '4', 'cppnOutputs': [0, 0, 0, -10.0]},\n",
       "  {'sourceID': '0', 'targetID': '4', 'cppnOutputs': [0, 0, 0.0, 5.0]},\n",
       "  {'sourceID': '1', 'targetID': '4', 'cppnOutputs': [0, 0, 0.0, 10.0]},\n",
       "  {'sourceID': '2', 'targetID': '4', 'cppnOutputs': [0, 0, 0.0, 2.0]}]}"
      ]
     },
     "execution_count": 5,
     "metadata": {},
     "output_type": "execute_result"
    }
   ],
   "source": [
    "tst"
   ]
  },
  {
   "cell_type": "code",
   "execution_count": 16,
   "metadata": {},
   "outputs": [],
   "source": [
    "initial_dict = myWorld.load_body_into_world(new_dict, myWorld.canvas)"
   ]
  },
  {
   "cell_type": "code",
   "execution_count": 17,
   "metadata": {},
   "outputs": [
    {
     "name": "stdout",
     "output_type": "stream",
     "text": [
      "0.0 -1.2194996983552073\n"
     ]
    }
   ],
   "source": [
    "[myWorld.updateWorld(350) for i in range(1000)]\n",
    "start = initial_dict['startX']\n",
    "# Could potentially just grab the bones instead, but if it's all \n",
    "# muscle then you'd need to grab a muscle.\n",
    "end = min(\n",
    "    [bone.joint.bodyA.position.x for bone in myWorld.bone_list] +\n",
    "    [muscle.joint.bodyA.position.x for muscle in myWorld.muscle_list]\n",
    ")\n",
    "print(start, end - initial_dict['offsetX'])"
   ]
  }
 ],
 "metadata": {
  "kernelspec": {
   "display_name": "Python 3.9.13 ('elm')",
   "language": "python",
   "name": "python3"
  },
  "language_info": {
   "codemirror_mode": {
    "name": "ipython",
    "version": 3
   },
   "file_extension": ".py",
   "mimetype": "text/x-python",
   "name": "python",
   "nbconvert_exporter": "python",
   "pygments_lexer": "ipython3",
   "version": "3.9.13"
  },
  "orig_nbformat": 4,
  "vscode": {
   "interpreter": {
    "hash": "0e64d1e0008a8db44de2a20958057659a3dab239f6adf041af850e01a5da18a0"
   }
  }
 },
 "nbformat": 4,
 "nbformat_minor": 2
}
